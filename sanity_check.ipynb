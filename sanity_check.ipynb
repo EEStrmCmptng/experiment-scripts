{
 "cells": [
  {
   "cell_type": "code",
   "execution_count": 25,
   "id": "177f5933",
   "metadata": {},
   "outputs": [],
   "source": [
    "import re\n",
    "import os\n",
    "from os import path\n",
    "import sys\n",
    "import time\n",
    "import numpy as np\n",
    "import pandas as pd\n",
    "import matplotlib.pyplot as plt\n",
    "\n",
    "LINUX_COLS = ['i', 'rx_desc', 'rx_bytes', 'tx_desc', 'tx_bytes', 'instructions', 'cycles', 'ref_cycles', 'llc_miss', 'c0', 'c1', 'c1e', 'c3', 'c6', 'c7', 'joules', 'timestamp']\n",
    "\n",
    "TIME_CONVERSION_khz = 1./(2899999*1000)\n",
    "JOULE_CONVERSION = 0.00001526\n",
    "\n",
    "# 50 100 200 400 500\n",
    "itrs = [\"0\", \"300\", \"1000\"]\n",
    "\n",
    "dvfss = [\"0x0c00\", \"0x1d00\"]\n",
    "\n",
    "#iter = 5\n",
    "## 75"
   ]
  },
  {
   "cell_type": "code",
   "execution_count": 9,
   "id": "d6bba66d",
   "metadata": {
    "scrolled": false
   },
   "outputs": [],
   "source": [
    "def test(mqps):\n",
    "    print(mqps)\n",
    "    for dvfs in dvfss:\n",
    "        for itr in itrs:\n",
    "            print(f'/mnt/eestreaming-refactor/experiment-scripts/logs/cores16_frate{mqps}_300000_fbuff-1_itr{itr}_dvfs{dvfs}_rapl135')\n",
    "            for iter in range(0, 1):\n",
    "                loc=f'/mnt/eestreaming-refactor/experiment-scripts/logs/cores16_frate{mqps}_300000_fbuff-1_itr{itr}_dvfs{dvfs}_rapl135_repeat{iter}'\n",
    "                num_interrupts = 0\n",
    "                rxbytes = 0\n",
    "                txbytes = 0\n",
    "\n",
    "                tins = 0\n",
    "                trefcyc = 0\n",
    "                tllcm = 0\n",
    "                tjoules = 0\n",
    "\n",
    "                for core in range(0, 16):\n",
    "                    fname = f'{loc}/ITRlogs/linux.flink.dmesg._'+str(core)+\"_\"+str(loc[len(loc)-1])\n",
    "                    df = pd.read_csv(fname, sep=' ', names=LINUX_COLS)\n",
    "                    rxbytes += df['rx_bytes'].sum()\n",
    "                    txbytes += df['tx_bytes'].sum()\n",
    "                    num_interrupts += len(df.index)\n",
    "                    df_non0j = df[(df['joules']>0) \n",
    "                                  & (df['instructions'] > 0) \n",
    "                                  & (df['cycles'] > 0) \n",
    "                                  & (df['ref_cycles'] > 0) \n",
    "                                  & (df['llc_miss'] > 0)].copy()\n",
    "                    df_non0j['timestamp'] = df_non0j['timestamp'] - df_non0j['timestamp'].min()\n",
    "                    df_non0j['timestamp'] = df_non0j['timestamp'] * TIME_CONVERSION_khz\n",
    "                    df_non0j['ref_cycles'] = df_non0j['ref_cycles'] * TIME_CONVERSION_khz\n",
    "                    df_non0j['joules'] = df_non0j['joules'] * JOULE_CONVERSION\n",
    "\n",
    "                    ## filters logs to be between 5min - 10 min\n",
    "                    df_non0j = df_non0j[(df_non0j['timestamp'] > 60) & (df_non0j['timestamp'] < 240)]\n",
    "\n",
    "                    tmp = df_non0j[['instructions', 'cycles', 'ref_cycles', 'llc_miss', 'joules', 'c0', 'c1', 'c1e', 'c3', 'c6', 'c7','timestamp']].diff()\n",
    "                    tmp.columns = [f'{c}_diff' for c in tmp.columns]\n",
    "                    df_non0j = pd.concat([df_non0j, tmp], axis=1)\n",
    "                    df_non0j.dropna(inplace=True)\n",
    "                    df.dropna(inplace=True)\n",
    "                    df_non0j = df_non0j[df_non0j['joules_diff'] > 0]\n",
    "\n",
    "                    tins += df_non0j['instructions_diff'].sum()\n",
    "                    trefcyc += df_non0j['ref_cycles_diff'].sum()\n",
    "                    tllcm += df_non0j['llc_miss_diff'].sum()\n",
    "                    cjoules = df_non0j['joules_diff'].sum()\n",
    "                    if core == 0 or core == 1:\n",
    "                        tjoules += cjoules\n",
    "\n",
    "                    #print(core, round(df_non0j['timestamp'].min(), 2), round(df_non0j['timestamp'].max(), 2), len(df.index))\n",
    "                    #num_interrupts.append(len(df.index))\n",
    "                #print(f'{iter}: {rxbytes} {txbytes} {int(tins)} {round(trefcyc, 2)} {int(tllcm)} {round(tjoules, 2)} Joules')\n",
    "                print(f'{iter}: itr={itr} dvfs={dvfs} num_interrupts={num_interrupts} energy={round(tjoules, 2)} Joules')\n",
    "                print(\"\")\n",
    "                #plt.scatter(range(0, 16), num_interrupts)\n",
    "                #plt.title(loc)\n",
    "                #plt.show()\n",
    "                #print(\"\")"
   ]
  },
  {
   "cell_type": "code",
   "execution_count": 10,
   "id": "99412c17",
   "metadata": {
    "scrolled": false
   },
   "outputs": [
    {
     "name": "stdout",
     "output_type": "stream",
     "text": [
      "200000\n",
      "/mnt/eestreaming-refactor/experiment-scripts/logs/cores16_frate200000_300000_fbuff-1_itr0_dvfs0x0c00_rapl135\n",
      "0: itr=0 dvfs=0x0c00 num_interrupts=1734646 energy=6228.97 Joules\n",
      "\n",
      "/mnt/eestreaming-refactor/experiment-scripts/logs/cores16_frate200000_300000_fbuff-1_itr300_dvfs0x0c00_rapl135\n",
      "0: itr=300 dvfs=0x0c00 num_interrupts=479488 energy=6711.63 Joules\n",
      "\n",
      "/mnt/eestreaming-refactor/experiment-scripts/logs/cores16_frate200000_300000_fbuff-1_itr1000_dvfs0x0c00_rapl135\n",
      "0: itr=1000 dvfs=0x0c00 num_interrupts=295248 energy=6680.35 Joules\n",
      "\n",
      "/mnt/eestreaming-refactor/experiment-scripts/logs/cores16_frate200000_300000_fbuff-1_itr0_dvfs0x1d00_rapl135\n",
      "0: itr=0 dvfs=0x1d00 num_interrupts=1835926 energy=8247.17 Joules\n",
      "\n",
      "/mnt/eestreaming-refactor/experiment-scripts/logs/cores16_frate200000_300000_fbuff-1_itr300_dvfs0x1d00_rapl135\n",
      "0: itr=300 dvfs=0x1d00 num_interrupts=490059 energy=8469.75 Joules\n",
      "\n",
      "/mnt/eestreaming-refactor/experiment-scripts/logs/cores16_frate200000_300000_fbuff-1_itr1000_dvfs0x1d00_rapl135\n",
      "0: itr=1000 dvfs=0x1d00 num_interrupts=292357 energy=8347.69 Joules\n",
      "\n"
     ]
    }
   ],
   "source": [
    "test(200000)"
   ]
  },
  {
   "cell_type": "code",
   "execution_count": 13,
   "id": "f93bdad9",
   "metadata": {},
   "outputs": [
    {
     "name": "stdout",
     "output_type": "stream",
     "text": [
      "400000\n",
      "/mnt/eestreaming-refactor/experiment-scripts/logs/cores16_frate400000_300000_fbuff-1_itr0_dvfs0x0c00_rapl135\n",
      "0: itr=0 dvfs=0x0c00 num_interrupts=2988300 energy=6965.2 Joules\n",
      "\n",
      "/mnt/eestreaming-refactor/experiment-scripts/logs/cores16_frate400000_300000_fbuff-1_itr300_dvfs0x0c00_rapl135\n",
      "0: itr=300 dvfs=0x0c00 num_interrupts=889930 energy=6974.02 Joules\n",
      "\n",
      "/mnt/eestreaming-refactor/experiment-scripts/logs/cores16_frate400000_300000_fbuff-1_itr1000_dvfs0x0c00_rapl135\n",
      "0: itr=1000 dvfs=0x0c00 num_interrupts=563373 energy=6989.19 Joules\n",
      "\n",
      "/mnt/eestreaming-refactor/experiment-scripts/logs/cores16_frate400000_300000_fbuff-1_itr0_dvfs0x1d00_rapl135\n",
      "0: itr=0 dvfs=0x1d00 num_interrupts=3702664 energy=9717.47 Joules\n",
      "\n",
      "/mnt/eestreaming-refactor/experiment-scripts/logs/cores16_frate400000_300000_fbuff-1_itr300_dvfs0x1d00_rapl135\n",
      "0: itr=300 dvfs=0x1d00 num_interrupts=934363 energy=9903.79 Joules\n",
      "\n",
      "/mnt/eestreaming-refactor/experiment-scripts/logs/cores16_frate400000_300000_fbuff-1_itr1000_dvfs0x1d00_rapl135\n",
      "0: itr=1000 dvfs=0x1d00 num_interrupts=546448 energy=9725.09 Joules\n",
      "\n"
     ]
    }
   ],
   "source": [
    "test(400000)"
   ]
  },
  {
   "cell_type": "code",
   "execution_count": 14,
   "id": "f2cb2f56",
   "metadata": {},
   "outputs": [
    {
     "name": "stdout",
     "output_type": "stream",
     "text": [
      "1.4199885288213363\n"
     ]
    }
   ],
   "source": [
    "print(9903/6974)"
   ]
  },
  {
   "cell_type": "code",
   "execution_count": 16,
   "id": "7ae3563c",
   "metadata": {},
   "outputs": [
    {
     "name": "stdout",
     "output_type": "stream",
     "text": [
      "1.0269188795925792\n"
     ]
    }
   ],
   "source": [
    "print(8469/8247)"
   ]
  },
  {
   "cell_type": "code",
   "execution_count": 26,
   "id": "6a48cb54",
   "metadata": {},
   "outputs": [
    {
     "name": "stdout",
     "output_type": "stream",
     "text": [
      "800000\n",
      "/mnt/eestreaming-refactor/experiment-scripts/logs/cores16_frate800000_300000_fbuff-1_itr0_dvfs0x0c00_rapl135\n",
      "0: itr=0 dvfs=0x0c00 num_interrupts=2835166 energy=6986.85 Joules\n",
      "\n",
      "/mnt/eestreaming-refactor/experiment-scripts/logs/cores16_frate800000_300000_fbuff-1_itr300_dvfs0x0c00_rapl135\n",
      "0: itr=300 dvfs=0x0c00 num_interrupts=905014 energy=7014.22 Joules\n",
      "\n",
      "/mnt/eestreaming-refactor/experiment-scripts/logs/cores16_frate800000_300000_fbuff-1_itr1000_dvfs0x0c00_rapl135\n",
      "0: itr=1000 dvfs=0x0c00 num_interrupts=551232 energy=7042.1 Joules\n",
      "\n",
      "/mnt/eestreaming-refactor/experiment-scripts/logs/cores16_frate800000_300000_fbuff-1_itr0_dvfs0x1d00_rapl135\n",
      "0: itr=0 dvfs=0x1d00 num_interrupts=3572209 energy=9927.64 Joules\n",
      "\n",
      "/mnt/eestreaming-refactor/experiment-scripts/logs/cores16_frate800000_300000_fbuff-1_itr300_dvfs0x1d00_rapl135\n",
      "0: itr=300 dvfs=0x1d00 num_interrupts=934791 energy=9300.85 Joules\n",
      "\n",
      "/mnt/eestreaming-refactor/experiment-scripts/logs/cores16_frate800000_300000_fbuff-1_itr1000_dvfs0x1d00_rapl135\n",
      "0: itr=1000 dvfs=0x1d00 num_interrupts=546316 energy=9415.98 Joules\n",
      "\n"
     ]
    }
   ],
   "source": [
    "test(800000)"
   ]
  },
  {
   "cell_type": "code",
   "execution_count": 21,
   "id": "007d087e",
   "metadata": {},
   "outputs": [
    {
     "name": "stdout",
     "output_type": "stream",
     "text": [
      "1140\n"
     ]
    }
   ],
   "source": [
    "print(19*60)"
   ]
  },
  {
   "cell_type": "code",
   "execution_count": 23,
   "id": "b94800ed",
   "metadata": {},
   "outputs": [
    {
     "name": "stdout",
     "output_type": "stream",
     "text": [
      "162.85714285714286\n"
     ]
    }
   ],
   "source": [
    "print(1140/7)"
   ]
  },
  {
   "cell_type": "code",
   "execution_count": 24,
   "id": "e87855eb",
   "metadata": {},
   "outputs": [
    {
     "name": "stdout",
     "output_type": "stream",
     "text": [
      "27.0\n"
     ]
    }
   ],
   "source": [
    "print(162/(3*2))"
   ]
  },
  {
   "cell_type": "code",
   "execution_count": null,
   "id": "93cfe391",
   "metadata": {},
   "outputs": [],
   "source": [
    "5 itr, 5 dvfs\n",
    "0 150 300 600 1000\n",
    "0x0c00 0x0f00 0x1100 0x1900 0x1d00"
   ]
  }
 ],
 "metadata": {
  "kernelspec": {
   "display_name": "Python 3 (ipykernel)",
   "language": "python",
   "name": "python3"
  },
  "language_info": {
   "codemirror_mode": {
    "name": "ipython",
    "version": 3
   },
   "file_extension": ".py",
   "mimetype": "text/x-python",
   "name": "python",
   "nbconvert_exporter": "python",
   "pygments_lexer": "ipython3",
   "version": "3.7.7"
  }
 },
 "nbformat": 4,
 "nbformat_minor": 5
}
