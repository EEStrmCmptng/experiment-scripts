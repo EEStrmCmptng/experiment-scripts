{
 "cells": [
  {
   "cell_type": "code",
   "execution_count": 41,
   "id": "177f5933",
   "metadata": {},
   "outputs": [],
   "source": [
    "import re\n",
    "import os\n",
    "from os import path\n",
    "import sys\n",
    "import time\n",
    "import numpy as np\n",
    "import pandas as pd\n",
    "import matplotlib.pyplot as plt\n",
    "\n",
    "LINUX_COLS = ['i', 'rx_desc', 'rx_bytes', 'tx_desc', 'tx_bytes', 'instructions', 'cycles', 'ref_cycles', 'llc_miss', 'c0', 'c1', 'c1e', 'c3', 'c6', 'c7', 'joules', 'timestamp']\n",
    "\n",
    "TIME_CONVERSION_khz = 1./(2899999*1000)\n",
    "JOULE_CONVERSION = 0.00001526\n",
    "\n",
    "# 50 100 200 400 500\n",
    "itrs = [\"10\", \"300\"]\n",
    "\n",
    "dvfss = [\"0x0c00\",\n",
    "        \"0x1100\",\n",
    "        \"0x1d00\"]\n",
    "\n",
    "#iter = 5\n",
    "## 75"
   ]
  },
  {
   "cell_type": "code",
   "execution_count": 47,
   "id": "0d5f8132",
   "metadata": {},
   "outputs": [
    {
     "name": "stdout",
     "output_type": "stream",
     "text": [
      "96.0\n"
     ]
    }
   ],
   "source": [
    "print(24*60/15)"
   ]
  },
  {
   "cell_type": "code",
   "execution_count": 49,
   "id": "d6bba66d",
   "metadata": {
    "scrolled": false
   },
   "outputs": [
    {
     "name": "stdout",
     "output_type": "stream",
     "text": [
      "/mnt/eestreaming-refactor/experiment-scripts/logs/cores16_frate12500_900000_fbuff-1_itr10_dvfs0x0c00_rapl135\n",
      "1: 1304381547 465251744 65179959454 36.34 57491747 10378.99 Joules\n",
      "\n",
      "2: 1304027765 459034411 64385405570 35.82 49634589 10363.34 Joules\n",
      "\n",
      "3: 1304194830 469484376 66218212994 36.11 46238295 10448.28 Joules\n",
      "\n",
      "/mnt/eestreaming-refactor/experiment-scripts/logs/cores16_frate12500_900000_fbuff-1_itr10_dvfs0x1100_rapl135\n",
      "1: 1303867077 463546634 64431983368 26.87 49468250 10710.26 Joules\n",
      "\n",
      "2: 1303655482 463924186 65231103118 26.94 48091548 10735.17 Joules\n",
      "\n",
      "3: 1303887574 453466819 66248646306 27.42 46925326 10693.43 Joules\n",
      "\n",
      "/mnt/eestreaming-refactor/experiment-scripts/logs/cores16_frate12500_900000_fbuff-1_itr10_dvfs0x1d00_rapl135\n",
      "1: 1304243164 469341012 64785453551 18.03 44734513 11093.5 Joules\n",
      "\n",
      "2: 1303988783 455838340 64914735525 18.57 51586125 11062.1 Joules\n",
      "\n",
      "3: 1304133426 469109308 72627535052 19.43 41888836 11146.2 Joules\n",
      "\n",
      "/mnt/eestreaming-refactor/experiment-scripts/logs/cores16_frate12500_900000_fbuff-1_itr300_dvfs0x0c00_rapl135\n",
      "1: 1304759507 456190699 64560562931 35.76 47557793 10429.81 Joules\n",
      "\n",
      "2: 1304709530 454621452 66482981655 36.72 46328063 10376.52 Joules\n",
      "\n",
      "3: 1304295531 454899076 63642827959 35.53 44750347 10400.43 Joules\n",
      "\n",
      "/mnt/eestreaming-refactor/experiment-scripts/logs/cores16_frate12500_900000_fbuff-1_itr300_dvfs0x1100_rapl135\n",
      "1: 1304456188 454832868 65016028181 27.51 53052553 10706.23 Joules\n",
      "\n",
      "2: 1304362902 456347341 65924121441 26.95 46012371 10745.94 Joules\n",
      "\n",
      "3: 1304563218 454669836 65140187855 26.89 55361244 10710.28 Joules\n",
      "\n",
      "/mnt/eestreaming-refactor/experiment-scripts/logs/cores16_frate12500_900000_fbuff-1_itr300_dvfs0x1d00_rapl135\n",
      "1: 1304380558 456080847 64184044024 17.65 41180269 11118.13 Joules\n",
      "\n",
      "2: 1304416441 453854225 64451691933 18.28 51189373 11154.14 Joules\n",
      "\n",
      "3: 1304548124 454171283 65082242997 18.65 52352306 11141.12 Joules\n",
      "\n"
     ]
    }
   ],
   "source": [
    "for itr in itrs:\n",
    "    for dvfs in dvfss:\n",
    "        print(f'/mnt/eestreaming-refactor/experiment-scripts/logs/cores16_frate12500_900000_fbuff-1_itr{itr}_dvfs{dvfs}_rapl135')\n",
    "        for iter in range(1, 4):\n",
    "            loc=f'/mnt/eestreaming-refactor/experiment-scripts/logs/cores16_frate12500_900000_fbuff-1_itr{itr}_dvfs{dvfs}_rapl135_repeat{iter}'\n",
    "            #print(loc)\n",
    "            num_interrupts = []\n",
    "            rxbytes = 0\n",
    "            txbytes = 0\n",
    "\n",
    "            tins = 0\n",
    "            trefcyc = 0\n",
    "            tllcm = 0\n",
    "            tjoules = 0\n",
    "            \n",
    "            for core in range(0, 16):\n",
    "                fname = f'{loc}/ITRlogs/linux.flink.dmesg._'+str(core)+\"_\"+str(loc[len(loc)-1])\n",
    "                df = pd.read_csv(fname, sep=' ', names=LINUX_COLS)\n",
    "                rxbytes += df['rx_bytes'].sum()\n",
    "                txbytes += df['tx_bytes'].sum()\n",
    "\n",
    "                df_non0j = df[(df['joules']>0) \n",
    "                              & (df['instructions'] > 0) \n",
    "                              & (df['cycles'] > 0) \n",
    "                              & (df['ref_cycles'] > 0) \n",
    "                              & (df['llc_miss'] > 0)].copy()\n",
    "                df_non0j['timestamp'] = df_non0j['timestamp'] - df_non0j['timestamp'].min()\n",
    "                df_non0j['timestamp'] = df_non0j['timestamp'] * TIME_CONVERSION_khz\n",
    "                df_non0j['ref_cycles'] = df_non0j['ref_cycles'] * TIME_CONVERSION_khz\n",
    "                df_non0j['joules'] = df_non0j['joules'] * JOULE_CONVERSION\n",
    "\n",
    "                ## filters logs to be between 5min - 10 min\n",
    "                df_non0j = df_non0j[(df_non0j['timestamp'] > 300) & (df_non0j['timestamp'] < 600)]\n",
    "\n",
    "                tmp = df_non0j[['instructions', 'cycles', 'ref_cycles', 'llc_miss', 'joules', 'c0', 'c1', 'c1e', 'c3', 'c6', 'c7','timestamp']].diff()\n",
    "                tmp.columns = [f'{c}_diff' for c in tmp.columns]\n",
    "                df_non0j = pd.concat([df_non0j, tmp], axis=1)\n",
    "                df_non0j.dropna(inplace=True)\n",
    "                df.dropna(inplace=True)\n",
    "                df_non0j = df_non0j[df_non0j['joules_diff'] > 0]\n",
    "\n",
    "                tins += df_non0j['instructions_diff'].sum()\n",
    "                trefcyc += df_non0j['ref_cycles_diff'].sum()\n",
    "                tllcm += df_non0j['llc_miss_diff'].sum()\n",
    "                cjoules = df_non0j['joules_diff'].sum()\n",
    "                if core == 0 or core == 1:\n",
    "                    tjoules += cjoules\n",
    "\n",
    "                #print(core, round(df_non0j['timestamp'].min(), 2), round(df_non0j['timestamp'].max(), 2), len(df.index))\n",
    "                #num_interrupts.append(len(df.index))\n",
    "            print(f'{iter}: {rxbytes} {txbytes} {int(tins)} {round(trefcyc, 2)} {int(tllcm)} {round(tjoules, 2)} Joules')\n",
    "            print(\"\")\n",
    "            #plt.scatter(range(0, 16), num_interrupts)\n",
    "            #plt.title(loc)\n",
    "            #plt.show()\n",
    "            #print(\"\")"
   ]
  },
  {
   "cell_type": "code",
   "execution_count": null,
   "id": "99412c17",
   "metadata": {},
   "outputs": [],
   "source": []
  }
 ],
 "metadata": {
  "kernelspec": {
   "display_name": "Python 3 (ipykernel)",
   "language": "python",
   "name": "python3"
  },
  "language_info": {
   "codemirror_mode": {
    "name": "ipython",
    "version": 3
   },
   "file_extension": ".py",
   "mimetype": "text/x-python",
   "name": "python",
   "nbconvert_exporter": "python",
   "pygments_lexer": "ipython3",
   "version": "3.7.7"
  }
 },
 "nbformat": 4,
 "nbformat_minor": 5
}
