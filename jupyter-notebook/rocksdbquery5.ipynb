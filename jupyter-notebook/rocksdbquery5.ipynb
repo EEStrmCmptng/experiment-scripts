{
 "cells": [
  {
   "cell_type": "code",
   "execution_count": 1,
   "id": "28a15b97",
   "metadata": {},
   "outputs": [
    {
     "name": "stderr",
     "output_type": "stream",
     "text": [
      "/tmp/ipykernel_74609/4156184711.py:1: DeprecationWarning: \n",
      "Pyarrow will become a required dependency of pandas in the next major release of pandas (pandas 3.0),\n",
      "(to allow more performant data types, such as the Arrow string type, and better interoperability with other libraries)\n",
      "but was not found to be installed on your system.\n",
      "If this would cause problems for you,\n",
      "please provide us feedback at https://github.com/pandas-dev/pandas/issues/54466\n",
      "        \n",
      "  import pandas as pd\n"
     ]
    }
   ],
   "source": [
    "import pandas as pd\n",
    "import numpy as np\n",
    "import argparse\n",
    "import itertools\n",
    "import matplotlib.pyplot as plt\n",
    "\n",
    "import re\n",
    "import os\n",
    "from os import path\n",
    "import sys\n",
    "import time"
   ]
  },
  {
   "cell_type": "code",
   "execution_count": 2,
   "id": "047a595e",
   "metadata": {},
   "outputs": [
    {
     "name": "stdout",
     "output_type": "stream",
     "text": [
      "   Unnamed: 0  i  itr  dvfs  rate    policy  nwindows  watts_avg  watts_std  \\\n",
      "0           0  0    1     1  3000  ondemand         4      22.12       3.47   \n",
      "1           1  0    1     1  3000  ondemand         4      34.44       3.88   \n",
      "2           2  0    1     1  3000  ondemand         4      62.57       4.19   \n",
      "3           3  0    1     1  3000  ondemand        12      19.81       1.33   \n",
      "4           4  0    1     1  3000  ondemand        12      31.08       3.31   \n",
      "5           5  0    1     1  3000  ondemand        12      53.55       6.31   \n",
      "\n",
      "   SinknumRecordsInPerSecond_avg  ...  WindownumRecordsInPerSecond_std  \\\n",
      "0                      46.701968  ...                        85.075020   \n",
      "1                     182.013715  ...                        86.171796   \n",
      "2                     590.124537  ...                        88.143735   \n",
      "3                      46.682928  ...                        46.382321   \n",
      "4                     182.015336  ...                        45.965186   \n",
      "5                     540.511343  ...                        45.602995   \n",
      "\n",
      "   WindownumRecordsOutPerSecond_avg  WindownumRecordsOutPerSecond_std  \\\n",
      "0                        186.807870                          2.918673   \n",
      "1                        728.054861                          7.558400   \n",
      "2                       2149.079167                        170.777119   \n",
      "3                         62.251344                          1.626063   \n",
      "4                        242.687114                          5.091043   \n",
      "5                        720.727006                         12.832355   \n",
      "\n",
      "   WindowbusyTimeMsPerSecond_avg  WindowbusyTimeMsPerSecond_std  \\\n",
      "0                      45.173203                      12.699091   \n",
      "1                     220.644608                      61.884637   \n",
      "2                     748.268791                     206.774233   \n",
      "3                      16.715686                       8.347201   \n",
      "4                      69.085512                      33.230069   \n",
      "5                     197.033224                      93.227792   \n",
      "\n",
      "   WindowbackPressuredTimeMsPerSecond_avg  \\\n",
      "0                                     0.0   \n",
      "1                                     0.0   \n",
      "2                                     0.0   \n",
      "3                                     0.0   \n",
      "4                                     0.0   \n",
      "5                                     0.0   \n",
      "\n",
      "   WindowbackPressuredTimeMsPerSecond_std  WindowbusyTime_%  \\\n",
      "0                                     0.0          4.517320   \n",
      "1                                     0.0         22.064461   \n",
      "2                                     0.0         74.826879   \n",
      "3                                     0.0          1.671569   \n",
      "4                                     0.0          6.908551   \n",
      "5                                     0.0         19.703322   \n",
      "\n",
      "   WindowbackPressuredTime_%  Windowlength  \n",
      "0                        0.0             5  \n",
      "1                        0.0            20  \n",
      "2                        0.0            60  \n",
      "3                        0.0             5  \n",
      "4                        0.0            20  \n",
      "5                        0.0            60  \n",
      "\n",
      "[6 rows x 40 columns]\n"
     ]
    }
   ],
   "source": [
    "df = pd.read_csv('../logs/combined_3000_static.csv')\n",
    "print(df)"
   ]
  },
  {
   "cell_type": "code",
   "execution_count": 11,
   "id": "11075822",
   "metadata": {},
   "outputs": [
    {
     "data": {
      "text/plain": [
       "<AxesSubplot:title={'center':'Windowlength 5'}, xlabel='nwindows'>"
      ]
     },
     "execution_count": 11,
     "metadata": {},
     "output_type": "execute_result"
    },
    {
     "data": {
      "image/png": "[encoded data removed]",
      "text/plain": [
       "<Figure size 432x288 with 1 Axes>"
      ]
     },
     "metadata": {
      "needs_background": "light"
     },
     "output_type": "display_data"
    }
   ],
   "source": [
    "df[(df.Windowlength == 5)].plot(x=\"nwindows\", y=[\"watts_avg\"], kind=\"bar\", title=\"Windowlength 5\")\n"
   ]
  },
  {
   "cell_type": "code",
   "execution_count": 12,
   "id": "56caaaac",
   "metadata": {},
   "outputs": [
    {
     "data": {
      "text/plain": [
       "<AxesSubplot:title={'center':'Windowlength 20'}, xlabel='nwindows'>"
      ]
     },
     "execution_count": 12,
     "metadata": {},
     "output_type": "execute_result"
    },
    {
     "data": {
      "image/png": "[encoded data removed]",
      "text/plain": [
       "<Figure size 432x288 with 1 Axes>"
      ]
     },
     "metadata": {
      "needs_background": "light"
     },
     "output_type": "display_data"
    }
   ],
   "source": [
    "df[(df.Windowlength == 20)].plot(x=\"nwindows\", y=[\"watts_avg\"], kind=\"bar\", title=\"Windowlength 20\")\n"
   ]
  },
  {
   "cell_type": "code",
   "execution_count": 14,
   "id": "825e7e8f",
   "metadata": {},
   "outputs": [
    {
     "data": {
      "text/plain": [
       "<AxesSubplot:title={'center':'Windowlength 60'}, xlabel='nwindows'>"
      ]
     },
     "execution_count": 14,
     "metadata": {},
     "output_type": "execute_result"
    },
    {
     "data": {
      "image/png": "[encoded data removed]",
      "text/plain": [
       "<Figure size 432x288 with 1 Axes>"
      ]
     },
     "metadata": {
      "needs_background": "light"
     },
     "output_type": "display_data"
    }
   ],
   "source": [
    "df[(df.Windowlength == 60)].plot(x=\"nwindows\", y=[\"watts_avg\"], kind=\"bar\", title=\"Windowlength 60\")\n"
   ]
  },
  {
   "cell_type": "code",
   "execution_count": null,
   "id": "23be5362",
   "metadata": {},
   "outputs": [],
   "source": []
  }
 ],
 "metadata": {
  "kernelspec": {
   "display_name": "Python 3 (ipykernel)",
   "language": "python",
   "name": "python3"
  },
  "language_info": {
   "codemirror_mode": {
    "name": "ipython",
    "version": 3
   },
   "file_extension": ".py",
   "mimetype": "text/x-python",
   "name": "python",
   "nbconvert_exporter": "python",
   "pygments_lexer": "ipython3",
   "version": "3.10.12"
  }
 },
 "nbformat": 4,
 "nbformat_minor": 5
}
